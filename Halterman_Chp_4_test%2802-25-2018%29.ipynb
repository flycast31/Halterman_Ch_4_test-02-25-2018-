{
 "cells": [
  {
   "cell_type": "markdown",
   "metadata": {},
   "source": [
    "## Halterman_Ch_4_test(02-25-2018)"
   ]
  },
  {
   "cell_type": "code",
   "execution_count": null,
   "metadata": {},
   "outputs": [
    {
     "name": "stdout",
     "output_type": "stream",
     "text": [
      "True\n"
     ]
    }
   ],
   "source": [
    "x = 10\n",
    "b = (x == 10)\n",
    "print(b)"
   ]
  },
  {
   "cell_type": "code",
   "execution_count": null,
   "metadata": {
    "collapsed": true
   },
   "outputs": [],
   "source": [
    "# Listing 4.28: max4a.py \n",
    "\n",
    "# Get input values from user\n",
    "print('Please enter four interger values')\n",
    "num1 = int(input('Enter value 1: '))\n",
    "num2 = int(input('Enter value 2: '))\n",
    "num3 = int(input('Enter value 3: '))\n",
    "num4 = int(input('Enter value 4: '))\n",
    "\n",
    "# Compute the maximum value\n",
    "if num1 >= num2 and num1 >= num3 and num1 >= num4:\n",
    "    max = num1\n",
    "elif num2 >= num1 and num2 >= num3 and num2 >= num4:\n",
    "    max = num2\n",
    "elif num3 >= num1 and num3 >= num2 and num3 >= num4:\n",
    "    max = num3\n",
    "elif num4 >= num1 and num4 >= num2 and num4 >= num3:\n",
    "    max = num4\n",
    "\n",
    "# Report result\n",
    "print('The maxium number entered was:', max)"
   ]
  },
  {
   "cell_type": "code",
   "execution_count": null,
   "metadata": {
    "collapsed": true
   },
   "outputs": [],
   "source": []
  }
 ],
 "metadata": {
  "kernelspec": {
   "display_name": "Python 3",
   "language": "python",
   "name": "python3"
  },
  "language_info": {
   "codemirror_mode": {
    "name": "ipython",
    "version": 3
   },
   "file_extension": ".py",
   "mimetype": "text/x-python",
   "name": "python",
   "nbconvert_exporter": "python",
   "pygments_lexer": "ipython3",
   "version": "3.6.3"
  }
 },
 "nbformat": 4,
 "nbformat_minor": 2
}
